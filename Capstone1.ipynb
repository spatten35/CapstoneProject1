{
 "cells": [
  {
   "cell_type": "markdown",
   "metadata": {},
   "source": [
    "\n",
    "This page uses data from the OpenPowerlifting project, https://www.openpowerlifting.org.\n",
    "You may download a copy of the data at https://gitlab.com/openpowerlifting/opl-data.\n"
   ]
  },
  {
   "cell_type": "code",
   "execution_count": 1,
   "metadata": {},
   "outputs": [],
   "source": [
    "import numpy as np\n",
    "import matplotlib.pyplot as plt\n",
    "import pandas as pd\n",
    "import seaborn as sns\n",
    "from glob import glob\n",
    "from urllib.request import urlretrieve"
   ]
  },
  {
   "cell_type": "markdown",
   "metadata": {},
   "source": [
    "After importing the libraries, we need to see what we're working with for data"
   ]
  },
  {
   "cell_type": "code",
   "execution_count": 2,
   "metadata": {},
   "outputs": [
    {
     "name": "stdout",
     "output_type": "stream",
     "text": [
      "(8482, 8)\n",
      "   MeetID        MeetPath Federation        Date MeetCountry MeetState  \\\n",
      "0       0  365strong/1601  365Strong  2016-10-29         USA        NC   \n",
      "1       1  365strong/1602  365Strong  2016-11-19         USA        MO   \n",
      "2       2  365strong/1603  365Strong  2016-07-09         USA        NC   \n",
      "3       3  365strong/1604  365Strong  2016-06-11         USA        SC   \n",
      "4       4  365strong/1605  365Strong  2016-04-10         USA        SC   \n",
      "\n",
      "    MeetTown                                           MeetName  \n",
      "0  Charlotte  2016 Junior & Senior National Powerlifting Cha...  \n",
      "1      Ozark                  Thanksgiving Powerlifting Classic  \n",
      "2  Charlotte                             Charlotte Europa Games  \n",
      "3  Rock Hill                   Carolina Cup Push Pull Challenge  \n",
      "4  Rock Hill                              Eastern USA Challenge  \n",
      "<class 'pandas.core.frame.DataFrame'>\n",
      "RangeIndex: 8482 entries, 0 to 8481\n",
      "Data columns (total 8 columns):\n",
      "MeetID         8482 non-null int64\n",
      "MeetPath       8482 non-null object\n",
      "Federation     8482 non-null object\n",
      "Date           8482 non-null object\n",
      "MeetCountry    8482 non-null object\n",
      "MeetState      5496 non-null object\n",
      "MeetTown       6973 non-null object\n",
      "MeetName       8482 non-null object\n",
      "dtypes: int64(1), object(7)\n",
      "memory usage: 530.2+ KB\n",
      "None\n",
      "            MeetID\n",
      "count  8482.000000\n",
      "mean   4240.500000\n",
      "std    2448.686825\n",
      "min       0.000000\n",
      "25%    2120.250000\n",
      "50%    4240.500000\n",
      "75%    6360.750000\n",
      "max    8481.000000\n"
     ]
    }
   ],
   "source": [
    "\n",
    "meets_df = pd.read_csv(\"meets.csv\")\n",
    "competitors_df = pd.read_csv(\"openpowerlifting.csv\")\n",
    "print(meets_df.shape)\n",
    "print(meets_df.head())\n",
    "print(meets_df.info(verbose=True))\n",
    "print(meets_df.describe())"
   ]
  },
  {
   "cell_type": "code",
   "execution_count": 3,
   "metadata": {},
   "outputs": [
    {
     "name": "stdout",
     "output_type": "stream",
     "text": [
      "8481 8481\n"
     ]
    }
   ],
   "source": [
    "print(meets_df.MeetID.max(), competitors_df.MeetID.max())"
   ]
  },
  {
   "cell_type": "code",
   "execution_count": null,
   "metadata": {},
   "outputs": [],
   "source": []
  },
  {
   "cell_type": "markdown",
   "metadata": {},
   "source": [
    "Within the meets_df, there is a 'Date' column that should be converted to a datetime object, to use to explore when meets take place. We'll also take a look at what countries meets are taking place in."
   ]
  },
  {
   "cell_type": "code",
   "execution_count": 4,
   "metadata": {},
   "outputs": [
    {
     "name": "stdout",
     "output_type": "stream",
     "text": [
      "   MeetID        MeetPath Federation       Date MeetCountry MeetState  \\\n",
      "0       0  365strong/1601  365Strong 2016-10-29         USA        NC   \n",
      "1       1  365strong/1602  365Strong 2016-11-19         USA        MO   \n",
      "2       2  365strong/1603  365Strong 2016-07-09         USA        NC   \n",
      "3       3  365strong/1604  365Strong 2016-06-11         USA        SC   \n",
      "4       4  365strong/1605  365Strong 2016-04-10         USA        SC   \n",
      "\n",
      "    MeetTown                                           MeetName  Month  Year  \n",
      "0  Charlotte  2016 Junior & Senior National Powerlifting Cha...     10  2016  \n",
      "1      Ozark                  Thanksgiving Powerlifting Classic     11  2016  \n",
      "2  Charlotte                             Charlotte Europa Games      7  2016  \n",
      "3  Rock Hill                   Carolina Cup Push Pull Challenge      6  2016  \n",
      "4  Rock Hill                              Eastern USA Challenge      4  2016  \n"
     ]
    }
   ],
   "source": [
    "meets_df['Date'] = pd.to_datetime(meets_df['Date'])\n",
    "meets_df['Month'] = meets_df['Date'].apply(lambda x: x.month)\n",
    "meets_df['Year'] = meets_df['Date'].apply(lambda x: x.year)\n",
    "print(meets_df.head())"
   ]
  },
  {
   "cell_type": "code",
   "execution_count": 5,
   "metadata": {},
   "outputs": [
    {
     "data": {
      "image/png": "[encoded data removed]",
      "text/plain": [
       "<Figure size 432x288 with 1 Axes>"
      ]
     },
     "metadata": {
      "needs_background": "light"
     },
     "output_type": "display_data"
    }
   ],
   "source": [
    "meets_df.MeetCountry.value_counts()[:15].plot(kind='barh')\n",
    "type(meets_df.MeetCountry.value_counts())\n",
    "plt.title('Meets by Country')\n",
    "plt.show()"
   ]
  },
  {
   "cell_type": "code",
   "execution_count": 6,
   "metadata": {},
   "outputs": [
    {
     "name": "stdout",
     "output_type": "stream",
     "text": [
      "      MeetID  MeetPath Federation       Date MeetCountry MeetState  \\\n",
      "2996    2996  nsf/2730        NSF 1974-03-02      Norway       NaN   \n",
      "2997    2997  nsf/2731        NSF 1974-03-30      Norway       NaN   \n",
      "2998    2998  nsf/2732        NSF 1974-04-27      Norway       NaN   \n",
      "2999    2999  nsf/2733        NSF 1974-05-05      Norway       NaN   \n",
      "3180    3180  nsf/3041        NSF 1974-06-15      Norway       NaN   \n",
      "\n",
      "        MeetTown          MeetName  Month  Year  \n",
      "2996        Oslo  Nasjonalt stevne      3  1974  \n",
      "2997        Oslo  Nasjonalt stevne      3  1974  \n",
      "2998         Ski      Åpent stevne      4  1974  \n",
      "2999  Brumunddal                KM      5  1974  \n",
      "3180   Trondheim   Kretsmesterskap      6  1974  \n"
     ]
    }
   ],
   "source": [
    "meets_by_dt = meets_df.sort_values(by='Date')\n",
    "print(meets_by_dt.head())"
   ]
  },
  {
   "cell_type": "code",
   "execution_count": null,
   "metadata": {},
   "outputs": [],
   "source": [
    "\n"
   ]
  },
  {
   "cell_type": "code",
   "execution_count": 7,
   "metadata": {},
   "outputs": [
    {
     "data": {
      "image/png": "[encoded data removed]",
      "text/plain": [
       "<Figure size 720x504 with 1 Axes>"
      ]
     },
     "metadata": {
      "needs_background": "light"
     },
     "output_type": "display_data"
    },
    {
     "data": {
      "image/png": "[encoded data removed]",
      "text/plain": [
       "<Figure size 432x288 with 1 Axes>"
      ]
     },
     "metadata": {
      "needs_background": "light"
     },
     "output_type": "display_data"
    },
    {
     "data": {
      "image/png": "[encoded data removed]",
      "text/plain": [
       "<Figure size 432x288 with 1 Axes>"
      ]
     },
     "metadata": {
      "needs_background": "light"
     },
     "output_type": "display_data"
    }
   ],
   "source": [
    "plt.figure(figsize=(10,7))\n",
    "meets_df.Year.value_counts(sort=False).sort_index().plot(kind='bar')\n",
    "plt.title('Meets over the Years')\n",
    "plt.show()\n",
    "meets_df.Year[(meets_df.Year < 1996) &(meets_df.Year >= 1974)].value_counts().sort_index().plot(kind='bar')\n",
    "plt.title('Meets between 1974 and 1995')\n",
    "plt.show()\n",
    "meets_df.Month.value_counts().sort_index().plot(kind='bar')\n",
    "plt.title('Meets by Month')\n",
    "plt.show()"
   ]
  },
  {
   "cell_type": "markdown",
   "metadata": {},
   "source": [
    "Now we're going to look at the competitors dataframe to see what sort of data it holds."
   ]
  },
  {
   "cell_type": "code",
   "execution_count": 8,
   "metadata": {},
   "outputs": [
    {
     "name": "stdout",
     "output_type": "stream",
     "text": [
      "(386414, 17)\n",
      "   MeetID              Name Sex   Equipment   Age     Division  BodyweightKg  \\\n",
      "0       0  Angie Belk Terry   F       Wraps  47.0    Mst 45-49         59.60   \n",
      "1       0       Dawn Bogart   F  Single-ply  42.0    Mst 40-44         58.51   \n",
      "2       0       Dawn Bogart   F  Single-ply  42.0  Open Senior         58.51   \n",
      "3       0       Dawn Bogart   F         Raw  42.0  Open Senior         58.51   \n",
      "4       0      Destiny Dula   F         Raw  18.0   Teen 18-19         63.68   \n",
      "\n",
      "  WeightClassKg  Squat4Kg  BestSquatKg  Bench4Kg  BestBenchKg  Deadlift4Kg  \\\n",
      "0            60       NaN        47.63       NaN        20.41          NaN   \n",
      "1            60       NaN       142.88       NaN        95.25          NaN   \n",
      "2            60       NaN       142.88       NaN        95.25          NaN   \n",
      "3            60       NaN          NaN       NaN        95.25          NaN   \n",
      "4          67.5       NaN          NaN       NaN        31.75          NaN   \n",
      "\n",
      "   BestDeadliftKg  TotalKg Place   Wilks  \n",
      "0           70.31   138.35     1  155.05  \n",
      "1          163.29   401.42     1  456.38  \n",
      "2          163.29   401.42     1  456.38  \n",
      "3             NaN    95.25     1  108.29  \n",
      "4           90.72   122.47     1  130.47  \n",
      "<class 'pandas.core.frame.DataFrame'>\n",
      "RangeIndex: 386414 entries, 0 to 386413\n",
      "Data columns (total 17 columns):\n",
      "MeetID            386414 non-null int64\n",
      "Name              386414 non-null object\n",
      "Sex               386414 non-null object\n",
      "Equipment         386414 non-null object\n",
      "Age               147147 non-null float64\n",
      "Division          370571 non-null object\n",
      "BodyweightKg      384012 non-null float64\n",
      "WeightClassKg     382602 non-null object\n",
      "Squat4Kg          1243 non-null float64\n",
      "BestSquatKg       298071 non-null float64\n",
      "Bench4Kg          1962 non-null float64\n",
      "BestBenchKg       356364 non-null float64\n",
      "Deadlift4Kg       2800 non-null float64\n",
      "BestDeadliftKg    317847 non-null float64\n",
      "TotalKg           363237 non-null float64\n",
      "Place             385322 non-null object\n",
      "Wilks             362194 non-null float64\n",
      "dtypes: float64(10), int64(1), object(6)\n",
      "memory usage: 50.1+ MB\n",
      "None\n"
     ]
    }
   ],
   "source": [
    "print(competitors_df.shape)\n",
    "print(competitors_df.head())\n",
    "print(competitors_df.info(verbose=True))\n",
    "#print(competitors_df.describe())"
   ]
  },
  {
   "cell_type": "markdown",
   "metadata": {},
   "source": [
    "Right off there are a few things that look off with the data. For all the lift values, there are minimums that are negative. These were lifts that didn't qualify. For this data, we'll inspecty how many lifts were report as negative and determine how they should be handled. If there are a small number, we'll drop those records that contain negative lift values.\n",
    "\n",
    "We also see that the Bench4Kg, Deadlift4Kg, and Squat4Kg columns are missing a large amount of data. For these, we'll drop the columns entirely. \n",
    "\n",
    "Another thing that will be considered, is what columns can be changed to categories. \n",
    "\n",
    "It seems the best way to uniquely identify a row is through MeetID and Name; these will be used for joint indexing. "
   ]
  },
  {
   "cell_type": "code",
   "execution_count": 9,
   "metadata": {},
   "outputs": [
    {
     "data": {
      "text/plain": [
       "Index(['MeetID', 'Name', 'Sex', 'Equipment', 'Age', 'Division', 'BodyweightKg',\n",
       "       'WeightClassKg', 'BestSquatKg', 'BestBenchKg', 'BestDeadliftKg',\n",
       "       'TotalKg', 'Place', 'Wilks'],\n",
       "      dtype='object')"
      ]
     },
     "execution_count": 9,
     "metadata": {},
     "output_type": "execute_result"
    }
   ],
   "source": [
    "comps_slim = competitors_df.drop(['Squat4Kg', 'Bench4Kg', 'Deadlift4Kg'], axis=1)\n",
    "comps_slim.columns\n"
   ]
  },
  {
   "cell_type": "code",
   "execution_count": 10,
   "metadata": {},
   "outputs": [
    {
     "name": "stdout",
     "output_type": "stream",
     "text": [
      "[F, M]\n",
      "Categories (2, object): [F, M]\n",
      "[Wraps, Single-ply, Raw, Multi-ply, Straps]\n",
      "Categories (5, object): [Wraps, Single-ply, Raw, Multi-ply, Straps]\n"
     ]
    }
   ],
   "source": [
    "comps_slim.Equipment = comps_slim.Equipment.astype('category')\n",
    "comps_slim.Sex = comps_slim.Sex.astype('category')\n",
    "print(comps_slim.Sex.unique()) \n",
    "print(comps_slim.Equipment.unique())"
   ]
  },
  {
   "cell_type": "code",
   "execution_count": 11,
   "metadata": {},
   "outputs": [
    {
     "name": "stdout",
     "output_type": "stream",
     "text": [
      "Percentage of lifts that are negative:  0.7554074127748994\n"
     ]
    }
   ],
   "source": [
    "# Determine how frequent negative values occur \n",
    "percent_neg = len(comps_slim[(comps_slim['BestSquatKg'] < 0) | (comps_slim['BestBenchKg'] < 0) | (comps_slim['BestDeadliftKg'] < 0)])/len(comps_slim)\n",
    "print('Percentage of lifts that are negative: ', str(percent_neg*100))"
   ]
  },
  {
   "cell_type": "markdown",
   "metadata": {},
   "source": [
    "Since it's a small percentage of records that contain a negative value, we'll drop those records."
   ]
  },
  {
   "cell_type": "code",
   "execution_count": 17,
   "metadata": {},
   "outputs": [],
   "source": [
    "comps_slim = comps_slim[(comps_slim.BestBenchKg > 0) | comps_slim.BestBenchKg.isnull()]\n",
    "comps_slim = comps_slim[(comps_slim.BestSquatKg > 0) | comps_slim.BestSquatKg.isnull()]\n",
    "comps_slim = comps_slim[(comps_slim.BestDeadliftKg > 0) | comps_slim.BestDeadliftKg.isnull()]\n"
   ]
  },
  {
   "cell_type": "markdown",
   "metadata": {},
   "source": [
    "We want to look farther into missing values, such as those in the BodyweightKg and WeightClasskg. Depending on how many there are, we may just remove all those rows. If there are too many, we'll look at removing only those missing both BodyweightKg and WeightClassKg, Since BodyweightKg within a WeightClassKg is used to determind placement, we will need to remove all rows that have a missing BodyWeight. However, if we are just missing WeightClassKg, we can try to fit it into one of the WeightClassKg based off Sex / BodyweightKg."
   ]
  },
  {
   "cell_type": "code",
   "execution_count": 24,
   "metadata": {},
   "outputs": [
    {
     "name": "stdout",
     "output_type": "stream",
     "text": [
      "<class 'pandas.core.frame.DataFrame'>\n",
      "Int64Index: 86021 entries, 0 to 386401\n",
      "Data columns (total 14 columns):\n",
      "MeetID            86021 non-null int64\n",
      "Name              86021 non-null object\n",
      "Sex               86021 non-null category\n",
      "Equipment         86021 non-null category\n",
      "Age               42298 non-null float64\n",
      "Division          81800 non-null object\n",
      "BodyweightKg      85788 non-null float64\n",
      "WeightClassKg     86021 non-null object\n",
      "BestSquatKg       70066 non-null float64\n",
      "BestBenchKg       81109 non-null float64\n",
      "BestDeadliftKg    76579 non-null float64\n",
      "TotalKg           83665 non-null float64\n",
      "Place             85789 non-null object\n",
      "Wilks             83442 non-null float64\n",
      "dtypes: category(2), float64(7), int64(1), object(4)\n",
      "memory usage: 8.7+ MB\n",
      "None\n",
      "<class 'pandas.core.frame.DataFrame'>\n",
      "Int64Index: 293666 entries, 23 to 386413\n",
      "Data columns (total 14 columns):\n",
      "MeetID            293666 non-null int64\n",
      "Name              293666 non-null object\n",
      "Sex               293666 non-null category\n",
      "Equipment         293666 non-null category\n",
      "Age               99983 non-null float64\n",
      "Division          282289 non-null object\n",
      "BodyweightKg      292904 non-null float64\n",
      "WeightClassKg     293666 non-null object\n",
      "BestSquatKg       223951 non-null float64\n",
      "BestBenchKg       270639 non-null float64\n",
      "BestDeadliftKg    237763 non-null float64\n",
      "TotalKg           277147 non-null float64\n",
      "Place             292895 non-null object\n",
      "Wilks             276500 non-null float64\n",
      "dtypes: category(2), float64(7), int64(1), object(4)\n",
      "memory usage: 29.7+ MB\n",
      "None\n",
      "['60' '67.5' '75' '82.5' '90' '90+' '52' '56' '48' '100' '110' '35' '40'\n",
      " '44' '39' '47' '57' '63' '72' '84' '84+' '43' '83' '93' '66' '59' '100+'\n",
      " '110+' '53' '80' '74' '105' '70' '70+' '75+' '117.5' '67.5+' '30' '60+'\n",
      " '34']\n",
      "['75' '82.5' '90' '100' '110' '125' '140' '140+' '56' '60' '67.5' '35'\n",
      " '30' '52' '145' '145+' '44' '48' '40' '39' '125+' '80' '100+' '110+' '59'\n",
      " '66' '74' '83' '93' '105' '120' '120+' '53' '57' '72' '63' '83+' '84'\n",
      " '84+' '95' '155' '117.5' '90+']\n"
     ]
    }
   ],
   "source": [
    "comps_slim = comps_slim[(comps_slim.WeightClassKg.notnull())]\n",
    "#print(comps_slim.info())\n",
    "females = comps_slim[comps_slim.Sex == 'F']\n",
    "males = comps_slim[comps_slim.Sex == 'M']\n",
    "print(females.info())\n",
    "print(males.info())\n",
    "print(females.WeightClassKg.unique())\n",
    "print(males.WeightClassKg.unique())\n",
    "\n",
    "comps_slim = comps_slim[(comps_slim.BodyweightKg.notnull())]"
   ]
  },
  {
   "cell_type": "markdown",
   "metadata": {},
   "source": [
    "After farther examination, it shows that weight classes are not consistent across all Divisions, and trying to reclassify the missing BodyweightKg values would be tough, and not that much more insightful, seeing how few rows were missing it from the whole dataset. \n",
    "\n",
    "Missing values for BestSquatKg, BestBenchKg, and BestDeadliftKg are expected, as not everyone is successful at their lifts. Missing Ages may be problematic for viewing age distributions, but we can't disregard all rows that are missing these values becaus we'd lose far too much data. \n",
    "\n"
   ]
  },
  {
   "cell_type": "code",
   "execution_count": 26,
   "metadata": {},
   "outputs": [
    {
     "name": "stdout",
     "output_type": "stream",
     "text": [
      "<class 'pandas.core.frame.DataFrame'>\n",
      "Int64Index: 142180 entries, 0 to 385416\n",
      "Data columns (total 14 columns):\n",
      "MeetID            142180 non-null int64\n",
      "Name              142180 non-null object\n",
      "Sex               142180 non-null category\n",
      "Equipment         142180 non-null category\n",
      "Age               142180 non-null float64\n",
      "Division          132503 non-null object\n",
      "BodyweightKg      142180 non-null float64\n",
      "WeightClassKg     142180 non-null object\n",
      "BestSquatKg       107605 non-null float64\n",
      "BestBenchKg       129222 non-null float64\n",
      "BestDeadliftKg    120766 non-null float64\n",
      "TotalKg           137336 non-null float64\n",
      "Place             142141 non-null object\n",
      "Wilks             137336 non-null float64\n",
      "dtypes: category(2), float64(7), int64(1), object(4)\n",
      "memory usage: 14.4+ MB\n",
      "None\n"
     ]
    }
   ],
   "source": [
    "df_with_ages = comps_slim[comps_slim.Age.notnull()]\n",
    "print(df_with_ages.info())"
   ]
  },
  {
   "cell_type": "code",
   "execution_count": null,
   "metadata": {},
   "outputs": [],
   "source": []
  }
 ],
 "metadata": {
  "kernelspec": {
   "display_name": "Python 3",
   "language": "python",
   "name": "python3"
  },
  "language_info": {
   "codemirror_mode": {
    "name": "ipython",
    "version": 3
   },
   "file_extension": ".py",
   "mimetype": "text/x-python",
   "name": "python",
   "nbconvert_exporter": "python",
   "pygments_lexer": "ipython3",
   "version": "3.7.1"
  }
 },
 "nbformat": 4,
 "nbformat_minor": 2
}
